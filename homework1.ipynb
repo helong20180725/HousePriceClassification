{
 "cells": [
  {
   "cell_type": "markdown",
   "metadata": {},
   "source": [
    "1. \n",
    "strategies in SimpleImputer : median, mean, most_frequent\n"
   ]
  },
  {
   "cell_type": "code",
   "execution_count": 413,
   "metadata": {},
   "outputs": [
    {
     "name": "stderr",
     "output_type": "stream",
     "text": [
      "/Library/Frameworks/Python.framework/Versions/3.7/lib/python3.7/site-packages/pandas/core/indexing.py:190: SettingWithCopyWarning: \n",
      "A value is trying to be set on a copy of a slice from a DataFrame\n",
      "\n",
      "See the caveats in the documentation: http://pandas.pydata.org/pandas-docs/stable/indexing.html#indexing-view-versus-copy\n",
      "  self._setitem_with_indexer(indexer, value)\n"
     ]
    },
    {
     "data": {
      "text/plain": [
       "<matplotlib.axes._subplots.AxesSubplot at 0x1ff281dd8>"
      ]
     },
     "execution_count": 413,
     "metadata": {},
     "output_type": "execute_result"
    },
    {
     "data": {
      "image/png": "[encoded data removed]",
      "text/plain": [
       "<Figure size 432x288 with 1 Axes>"
      ]
     },
     "metadata": {
      "needs_background": "light"
     },
     "output_type": "display_data"
    }
   ],
   "source": [
    "import pandas as pd\n",
    "import numpy as np\n",
    "from sklearn.impute import SimpleImputer\n",
    "\n",
    "df = pd.read_csv(\"melb_data.csv\")\n",
    "df = df.drop(['Address'], axis=1)\n",
    "# 'Car', and 'BuildingArea' can be imputed by mean.\n",
    "mean_imputer = SimpleImputer(missing_values=np.nan, strategy='mean')\n",
    "df[['Car', 'BuildingArea']] = mean_imputer.fit_transform(df[['Car', 'BuildingArea']])\n",
    "\n",
    "# 'YearBuilt', and 'CouncilArea' can not be imputed by mean simply. \n",
    "# Because it doesn't make any sense.\n",
    "\n",
    "most_frequent_imputer = SimpleImputer(missing_values=np.nan, strategy='median')\n",
    "df[['YearBuilt']] = most_frequent_imputer.fit_transform(df[['YearBuilt']])\n",
    "\n",
    "\n",
    "most_frequent_imputer = SimpleImputer(missing_values=np.nan, strategy='most_frequent')\n",
    "df[['CouncilArea']] = most_frequent_imputer.fit_transform(df[['CouncilArea']])\n",
    "\n",
    "\n",
    "# I don't like the way dividing the samples equally into 5 categories/classes. \n",
    "# Because I think it may cause the problem that one price is in two labels. \n",
    "#  \n",
    "# label price to 5 classes. \n",
    "# Dividing into 5 classes is not good either. \n",
    "# Because it will cause data unbalance. \n",
    "# \n",
    "# Finally, choose the dividing the samples equally into 5 categories/classes.\n",
    "# \n",
    "CLASSES = 5\n",
    "\n",
    "df = df.sort_values(by=['Price'])\n",
    "max_number = len(df.Price)\n",
    "class_width = max_number // CLASSES\n",
    "\n",
    "for i in range(CLASSES):\n",
    "    df.Price.iloc[i*class_width:(i+1)*class_width] = i\n",
    "\n",
    "# df.Price.describe()\n",
    "# df['Price'] = pd.cut(df['Price'], bins=CLASSES, labels=False)\n",
    "\n",
    "import seaborn as sns\n",
    "sns.distplot(df.Price)\n",
    "\n",
    "# What is the meaning of the following prompt?"
   ]
  },
  {
   "cell_type": "markdown",
   "metadata": {},
   "source": [
    "$ Price: \n",
    "\n",
    "top value: 4\n",
    "\n",
    "high value: 3\n",
    "\n",
    "medium value: 2\n",
    "\n",
    "low value: 1 \n",
    "\n",
    "bottom value: 0\n"
   ]
  },
  {
   "cell_type": "markdown",
   "metadata": {},
   "source": [
    "2. Classic Encoders: \n",
    "\n",
    "OneHot — one column for each value to compare vs. all other values. Nominal, ordinal.\n",
    "\n",
    "Label - \n",
    "\n",
    "========================================================="
   ]
  },
  {
   "attachments": {},
   "cell_type": "markdown",
   "metadata": {},
   "source": [
    "Suburb : OneHotEncoder / LabelEncoder\n",
    "\n",
    "Address :  useless.\n",
    "\n",
    "Rooms :\n",
    "\n",
    "Type : OneHotEncoder / LabelEncoder\n",
    "\n",
    "Price : label 5 classes.  This is y.\n",
    "\n",
    "Method : OneHotEncoder / LabelEncoder\n",
    "\n",
    "SellerG\t: OneHotEncoder / LabelEncoder\n",
    "\n",
    "Date : OneHotEncoder / LabelEncoder\n",
    "\n",
    "Distance\n",
    "\n",
    "Postcode     \n",
    "\n",
    "Bedroom2\n",
    "\n",
    "Bathroom\n",
    "\n",
    "Car\t\n",
    "\n",
    "Landsize\n",
    "\n",
    "BuildingArea \n",
    "\n",
    "YearBuilt\t\n",
    "\n",
    "CouncilArea\t: OneHotEncoder / LabelEncoder\n",
    "\n",
    "Lattitude\t\n",
    "\n",
    "Longtitude\t\n",
    "\n",
    "Regionname : OneHotEncodee / LabelEncoder\n",
    "\n",
    "Propertycount\n"
   ]
  },
  {
   "cell_type": "code",
   "execution_count": 414,
   "metadata": {},
   "outputs": [],
   "source": [
    "# OneHotEncoder for nominal data\n",
    "from sklearn.preprocessing import OneHotEncoder\n",
    "\n",
    "one_hot = OneHotEncoder(sparse=False)\n",
    "\n",
    "ohc_data = one_hot.fit_transform(df[['Suburb', 'Type', 'Method', 'SellerG', 'Date', 'CouncilArea', 'Regionname']])\n",
    "\n",
    "data = np.array(df[['Rooms', 'Distance', 'Postcode', 'Bedroom2', 'Bathroom', 'Car', 'Landsize', 'BuildingArea', 'YearBuilt', 'Lattitude', 'Longtitude', 'Propertycount']])\n",
    "\n",
    "x = np.concatenate((ohc_data, data), axis=1)\n",
    "y = np.array(df.Price)"
   ]
  },
  {
   "cell_type": "code",
   "execution_count": 405,
   "metadata": {},
   "outputs": [
    {
     "name": "stderr",
     "output_type": "stream",
     "text": [
      "/Library/Frameworks/Python.framework/Versions/3.7/lib/python3.7/site-packages/sklearn/preprocessing/label.py:235: DataConversionWarning: A column-vector y was passed when a 1d array was expected. Please change the shape of y to (n_samples, ), for example using ravel().\n",
      "  y = column_or_1d(y, warn=True)\n"
     ]
    }
   ],
   "source": [
    "# LabelEncoder for nominal data\n",
    "from sklearn.preprocessing import LabelEncoder\n",
    "\n",
    "le = LabelEncoder()\n",
    "headers_to_be_label = ['Suburb', 'Type', 'Method', 'SellerG', 'Date', 'CouncilArea', 'Regionname']\n",
    "for header in headers_to_be_label:\n",
    "    df[header] = le.fit_transform(df[[header]])\n",
    "\n",
    "y = np.array(df.Price)\n",
    "x = np.array(df.drop(['Price'], axis=1))\n",
    "\n",
    "# prompt?"
   ]
  },
  {
   "cell_type": "code",
   "execution_count": 411,
   "metadata": {},
   "outputs": [
    {
     "name": "stdout",
     "output_type": "stream",
     "text": [
      "{5: 0.5398657427457774, 6: 0.5338241663057601, 7: 0.5395192724122997, 8: 0.5351234300563014, 9: 0.5340840190558684, 10: 0.5311823300129926}\n"
     ]
    }
   ],
   "source": [
    "# KNN classifier\n",
    "from sklearn.neighbors import KNeighborsClassifier\n",
    "from sklearn.model_selection import train_test_split\n",
    "from sklearn import metrics\n",
    "# k is from 5 to 10\n",
    "k_knn = range(5, 11)\n",
    "accuracy_knn = dict()\n",
    "TEST_SIZE = 0.34\n",
    "SPLITTING_TIMES = 10\n",
    "\n",
    "for k in k_knn:\n",
    "    accuracy = []\n",
    "    for j in range(SPLITTING_TIMES):\n",
    "        # random_state is a seed\n",
    "        x_train, x_test, y_train, y_test = train_test_split(x, y, test_size=TEST_SIZE, random_state=k+j)\n",
    "        knn = KNeighborsClassifier(n_neighbors=k)\n",
    "        knn.fit(x_train, y_train)\n",
    "        y_pred = knn.predict(x_test)\n",
    "        accuracy.append(metrics.accuracy_score(y_test, y_pred))\n",
    "    # Store the average accuracy. \n",
    "    accuracy_knn[k] = sum(accuracy)/len(accuracy)\n",
    "    \n",
    "print(accuracy_knn)\n"
   ]
  },
  {
   "cell_type": "code",
   "execution_count": 415,
   "metadata": {},
   "outputs": [
    {
     "name": "stderr",
     "output_type": "stream",
     "text": [
      "/Library/Frameworks/Python.framework/Versions/3.7/lib/python3.7/site-packages/sklearn/ensemble/forest.py:245: FutureWarning: The default value of n_estimators will change from 10 in version 0.20 to 100 in 0.22.\n",
      "  \"10 in version 0.20 to 100 in 0.22.\", FutureWarning)\n",
      "/Library/Frameworks/Python.framework/Versions/3.7/lib/python3.7/site-packages/sklearn/ensemble/forest.py:245: FutureWarning: The default value of n_estimators will change from 10 in version 0.20 to 100 in 0.22.\n",
      "  \"10 in version 0.20 to 100 in 0.22.\", FutureWarning)\n",
      "/Library/Frameworks/Python.framework/Versions/3.7/lib/python3.7/site-packages/sklearn/ensemble/forest.py:245: FutureWarning: The default value of n_estimators will change from 10 in version 0.20 to 100 in 0.22.\n",
      "  \"10 in version 0.20 to 100 in 0.22.\", FutureWarning)\n",
      "/Library/Frameworks/Python.framework/Versions/3.7/lib/python3.7/site-packages/sklearn/ensemble/forest.py:245: FutureWarning: The default value of n_estimators will change from 10 in version 0.20 to 100 in 0.22.\n",
      "  \"10 in version 0.20 to 100 in 0.22.\", FutureWarning)\n",
      "/Library/Frameworks/Python.framework/Versions/3.7/lib/python3.7/site-packages/sklearn/ensemble/forest.py:245: FutureWarning: The default value of n_estimators will change from 10 in version 0.20 to 100 in 0.22.\n",
      "  \"10 in version 0.20 to 100 in 0.22.\", FutureWarning)\n",
      "/Library/Frameworks/Python.framework/Versions/3.7/lib/python3.7/site-packages/sklearn/ensemble/forest.py:245: FutureWarning: The default value of n_estimators will change from 10 in version 0.20 to 100 in 0.22.\n",
      "  \"10 in version 0.20 to 100 in 0.22.\", FutureWarning)\n",
      "/Library/Frameworks/Python.framework/Versions/3.7/lib/python3.7/site-packages/sklearn/ensemble/forest.py:245: FutureWarning: The default value of n_estimators will change from 10 in version 0.20 to 100 in 0.22.\n",
      "  \"10 in version 0.20 to 100 in 0.22.\", FutureWarning)\n",
      "/Library/Frameworks/Python.framework/Versions/3.7/lib/python3.7/site-packages/sklearn/ensemble/forest.py:245: FutureWarning: The default value of n_estimators will change from 10 in version 0.20 to 100 in 0.22.\n",
      "  \"10 in version 0.20 to 100 in 0.22.\", FutureWarning)\n",
      "/Library/Frameworks/Python.framework/Versions/3.7/lib/python3.7/site-packages/sklearn/ensemble/forest.py:245: FutureWarning: The default value of n_estimators will change from 10 in version 0.20 to 100 in 0.22.\n",
      "  \"10 in version 0.20 to 100 in 0.22.\", FutureWarning)\n",
      "/Library/Frameworks/Python.framework/Versions/3.7/lib/python3.7/site-packages/sklearn/ensemble/forest.py:245: FutureWarning: The default value of n_estimators will change from 10 in version 0.20 to 100 in 0.22.\n",
      "  \"10 in version 0.20 to 100 in 0.22.\", FutureWarning)\n"
     ]
    },
    {
     "name": "stdout",
     "output_type": "stream",
     "text": [
      "0.6048505846686878\n"
     ]
    }
   ],
   "source": [
    "# Random Forest classifier\n",
    "from sklearn.ensemble import RandomForestClassifier\n",
    "TEST_SIZE = 0.34\n",
    "SPLITTING_TIMES = 10\n",
    "\n",
    "accuracy = []\n",
    "for j in range(SPLITTING_TIMES):\n",
    "    x_train, x_test, y_train, y_test = train_test_split(x, y, test_size=TEST_SIZE, random_state=j)\n",
    "    rfc = RandomForestClassifier()\n",
    "    rfc.fit(x_train, y_train)\n",
    "    y_pred = rfc.predict(x_test)\n",
    "    accuracy.append(metrics.accuracy_score(y_test, y_pred))\n",
    "average_accuracy = sum(accuracy) / len(accuracy)\n",
    "    \n",
    "print(average_accuracy)"
   ]
  },
  {
   "cell_type": "code",
   "execution_count": null,
   "metadata": {},
   "outputs": [],
   "source": []
  }
 ],
 "metadata": {
  "kernelspec": {
   "display_name": "Python 3",
   "language": "python",
   "name": "python3"
  },
  "language_info": {
   "codemirror_mode": {
    "name": "ipython",
    "version": 3
   },
   "file_extension": ".py",
   "mimetype": "text/x-python",
   "name": "python",
   "nbconvert_exporter": "python",
   "pygments_lexer": "ipython3",
   "version": "3.7.3"
  }
 },
 "nbformat": 4,
 "nbformat_minor": 2
}
